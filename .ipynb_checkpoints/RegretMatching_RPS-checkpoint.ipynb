{
 "cells": [
  {
   "cell_type": "code",
   "execution_count": 40,
   "id": "6a9425d4",
   "metadata": {},
   "outputs": [
    {
     "name": "stdout",
     "output_type": "stream",
     "text": [
      "%pylab is deprecated, use %matplotlib inline and import the required libraries.\n",
      "Populating the interactive namespace from numpy and matplotlib\n"
     ]
    },
    {
     "name": "stderr",
     "output_type": "stream",
     "text": [
      "/Library/Frameworks/Python.framework/Versions/3.11/lib/python3.11/site-packages/IPython/core/magics/pylab.py:162: UserWarning: pylab import has clobbered these variables: ['random']\n",
      "`%matplotlib` prevents importing * from pylab and numpy\n",
      "  warn(\"pylab import has clobbered these variables: %s\"  % clobbered +\n"
     ]
    }
   ],
   "source": [
    "%pylab inline\n",
    "%reload_ext autoreload\n",
    "%autoreload 2"
   ]
  },
  {
   "cell_type": "code",
   "execution_count": 41,
   "id": "274b25e0",
   "metadata": {},
   "outputs": [],
   "source": [
    "import numpy as np\n",
    "import random"
   ]
  },
  {
   "cell_type": "code",
   "execution_count": 42,
   "id": "b7d35daa",
   "metadata": {},
   "outputs": [],
   "source": [
    "''' \n",
    "Setting of mixed extension of Nash Equilibrium\n",
    "1.  Set N = {1, 2, · · · , n} of players \n",
    "2.  For each player i, a set P_i of all mixed strategies of player i\n",
    "3.  For each player, a payoff function Hi : ∏i∈N P_i → R, where each Hi\n",
    "is a linear combination of his with coefficients equal to product of the\n",
    "corresponding probabilities\n",
    "'''\n",
    "\n",
    "ROCK, PAPER, SCISSORS, NUM_ACTIONS = 0, 1, 2, 3 \n",
    "regretSum = np.zeros(NUM_ACTIONS)\n",
    "strategy = np.zeros(NUM_ACTIONS)\n",
    "strategySum = np.zeros(NUM_ACTIONS)\n",
    "# Opponent uses the mixed strat (R, S, P) = (0.4, 0.3, 0.3)\n",
    "oppStrategy = np.array([0.4, 0.3, 0.3])\n"
   ]
  },
  {
   "cell_type": "code",
   "execution_count": 43,
   "id": "ab1b054a",
   "metadata": {},
   "outputs": [],
   "source": [
    "# All possible payoffs for p1 \n",
    "def getValue(p1, p2):\n",
    "    if p1 == p2:\n",
    "        return 0 \n",
    "    if p1 == ROCK and p2 == SCISSORS:\n",
    "        return 1\n",
    "    if p1 == SCISSORS and p2 == PAPER:\n",
    "        return 1\n",
    "    if p1 == PAPER and p2 == ROCK:\n",
    "        return 1\n",
    "    else:\n",
    "        return -1"
   ]
  },
  {
   "cell_type": "code",
   "execution_count": 44,
   "id": "4f5ff89e",
   "metadata": {},
   "outputs": [],
   "source": [
    "# accmulate in stratSum\n",
    "def getStrategy():\n",
    "    global regretSum, strategySum\n",
    "    strategy = np.maximum(regretSum, 0)\n",
    "    normalizingSum = np.sum(strategy)\n",
    "    if normalizingSum > 0:\n",
    "        strategy /= normalizingSum\n",
    "    else:\n",
    "        strategy = np.ones(NUM_ACTIONS)/NUM_ACTIONS\n",
    "    strategySum += strategy\n",
    "    return strategy\n",
    "\n",
    "def getAction(strategy):\n",
    "    # Returns a random number in (0,1)\n",
    "    rr = random.random()\n",
    "    # Returns 0, 1, 2 based on the mixed strategy\n",
    "    return np.searchsorted(np.cumsum(strategy/np.sum(strategy)), rr)"
   ]
  },
  {
   "cell_type": "code",
   "execution_count": 45,
   "id": "0e8725d5",
   "metadata": {},
   "outputs": [],
   "source": [
    "def getStrategyPayoff(myStrat, oppStrat, iter1, iter2):\n",
    "    vvv = []\n",
    "    for i in range(iter1):\n",
    "        vv = 0 \n",
    "        for j in range(iter2):\n",
    "            myAction = getAction(myStrat)\n",
    "            oppAction = getAction(oppStrat)\n",
    "            vv += getValue(myAction, oppAction)\n",
    "        vvv.append(vv)\n",
    "    plot(sorted(vvv))\n",
    "    return np.mean(vvv)"
   ]
  },
  {
   "cell_type": "code",
   "execution_count": 46,
   "id": "3b3f9d74",
   "metadata": {},
   "outputs": [],
   "source": [
    "def updateRegretSum(myStrat, oppStrat, iter):\n",
    "    # To train the algorithm and modify the regretSum array\n",
    "    global regretSum\n",
    "    actionPayoff = np.zeros(NUM_ACTIONS)\n",
    "    for i in range(iter):\n",
    "        \n",
    "        oppAction = getAction(oppStrat)       \n",
    "\n",
    "       # Compute Action Payoffs: ROCK 0; PAPER 1; SCISSORS 2\n",
    "        actionPayoff[oppAction] = 0 \n",
    "        actionPayoff[(oppAction+1)%NUM_ACTIONS] = 1\n",
    "        actionPayoff[(oppAction+2)%NUM_ACTIONS] = -1 \n",
    "\n",
    "        regretSum += actionPayoff\n"
   ]
  },
  {
   "cell_type": "code",
   "execution_count": 47,
   "id": "6b876d15",
   "metadata": {},
   "outputs": [
    {
     "name": "stdout",
     "output_type": "stream",
     "text": [
      "Using default mixed strategy (1/3, 1/3, 1/3)\n",
      "0.82\n",
      "Using Regret matched mixed strategy after training:  [0. 1. 0.]\n",
      "9.05\n"
     ]
    },
    {
     "data": {
      "image/png": "[encoded data removed]",
      "text/plain": [
       "<Figure size 640x480 with 1 Axes>"
      ]
     },
     "metadata": {},
     "output_type": "display_data"
    }
   ],
   "source": [
    "myStrat = getStrategy() # Use default mixed strat (1/3, 1/3, 1/3)\n",
    "print(\"Using default mixed strategy (1/3, 1/3, 1/3)\")\n",
    "print(getStrategyPayoff(myStrat, oppStrategy, 100, 100))\n",
    "\n",
    "updateRegretSum(myStrat, oppStrategy, 100000) # Modify global variable regretSum\n",
    "\n",
    "myNewStrat = getStrategy()\n",
    "print(\"Using Regret matched mixed strategy after training: \", myNewStrat)\n",
    "print(getStrategyPayoff(myNewStrat, oppStrategy, 100, 100))"
   ]
  }
 ],
 "metadata": {
  "kernelspec": {
   "display_name": "Python 3 (ipykernel)",
   "language": "python",
   "name": "python3"
  },
  "language_info": {
   "codemirror_mode": {
    "name": "ipython",
    "version": 3
   },
   "file_extension": ".py",
   "mimetype": "text/x-python",
   "name": "python",
   "nbconvert_exporter": "python",
   "pygments_lexer": "ipython3",
   "version": "3.11.4"
  }
 },
 "nbformat": 4,
 "nbformat_minor": 5
}
