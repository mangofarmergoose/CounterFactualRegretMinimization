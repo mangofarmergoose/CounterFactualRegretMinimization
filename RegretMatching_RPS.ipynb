{
 "cells": [
  {
   "cell_type": "code",
   "execution_count": 48,
   "id": "6a9425d4",
   "metadata": {},
   "outputs": [],
   "source": [
    "import numpy as np\n",
    "import matplotlib.pyplot as plt\n",
    "import random"
   ]
  },
  {
   "cell_type": "code",
   "execution_count": 49,
   "id": "b7d35daa",
   "metadata": {},
   "outputs": [],
   "source": [
    "ROCK, PAPER, SCISSORS = 0,1,2\n",
    "regretSum = np.array([0.0, 0.0, 0.0])\n",
    "mixedStrat = np.array([0.0, 0.0, 0.0])\n",
    "mixedStratSum = np.array([0.0, 0.0, 0.0])\n",
    "oppStrat = np.array([0.4, 0.3, 0.3])"
   ]
  },
  {
   "cell_type": "code",
   "execution_count": 50,
   "id": "ab1b054a",
   "metadata": {},
   "outputs": [],
   "source": [
    "# All possible payoffs\n",
    "def value(p1, p2):\n",
    "    if p1 == p2:\n",
    "        return 0 \n",
    "    if p1 == ROCK and p2 == SCISSORS:\n",
    "        return 1\n",
    "    if p1 == SCISSORS and p2 == PAPER:\n",
    "        return 1\n",
    "    if p1 == PAPER and p2 == ROCK:\n",
    "        return 1\n",
    "    else:\n",
    "        return -1\n",
    "    "
   ]
  },
  {
   "cell_type": "code",
   "execution_count": 51,
   "id": "4f5ff89e",
   "metadata": {},
   "outputs": [],
   "source": [
    "def getStrategy():\n",
    "    global regretSum, strategySum\n",
    "    strategy = np.maximum(regretSum, 0)\n",
    "    normalizingSum = np.sum(strategy)\n",
    "    if normalizingSum > 0:\n",
    "        strategy /= normalizingSum\n",
    "    else:\n",
    "        strategy = np.ones(3)/3\n",
    "    return strategy\n",
    "\n",
    "def getAction(strategy):\n",
    "    # Returns a random number in (0,1)\n",
    "    rr = random.random()\n",
    "    \n",
    "    return np.searchsorted(np.cumsum(strategy), rr)\n"
   ]
  },
  {
   "cell_type": "code",
   "execution_count": 52,
   "id": "35b23e13",
   "metadata": {
    "scrolled": true
   },
   "outputs": [
    {
     "data": {
      "text/plain": [
       "[<matplotlib.lines.Line2D at 0x12e873910>]"
      ]
     },
     "execution_count": 52,
     "metadata": {},
     "output_type": "execute_result"
    },
    {
     "data": {
      "image/png": "[encoded data removed]",
      "text/plain": [
       "<Figure size 640x480 with 1 Axes>"
      ]
     },
     "metadata": {},
     "output_type": "display_data"
    }
   ],
   "source": [
    "a = [getAction(getStrategy()) for i in range(1000)]\n",
    "\n",
    "plt.plot(sorted(a))"
   ]
  },
  {
   "cell_type": "code",
   "execution_count": 66,
   "id": "0e8725d5",
   "metadata": {},
   "outputs": [
    {
     "data": {
      "text/plain": [
       "3"
      ]
     },
     "execution_count": 66,
     "metadata": {},
     "output_type": "execute_result"
    }
   ],
   "source": [
    "vv = 0 \n",
    "for i in range(100):\n",
    "#Get regret-matched mixed-strategy actions\n",
    "    myStrat = getStrategy()\n",
    "    myAction = getAction(myStrat)\n",
    "    oppAction = getAction(oppStrat)\n",
    "    vv += value(myAction, oppAction)\n",
    "vv"
   ]
  },
  {
   "cell_type": "code",
   "execution_count": null,
   "id": "3b3f9d74",
   "metadata": {},
   "outputs": [],
   "source": []
  }
 ],
 "metadata": {
  "kernelspec": {
   "display_name": "Python 3 (ipykernel)",
   "language": "python",
   "name": "python3"
  },
  "language_info": {
   "codemirror_mode": {
    "name": "ipython",
    "version": 3
   },
   "file_extension": ".py",
   "mimetype": "text/x-python",
   "name": "python",
   "nbconvert_exporter": "python",
   "pygments_lexer": "ipython3",
   "version": "3.11.4"
  }
 },
 "nbformat": 4,
 "nbformat_minor": 5
}
