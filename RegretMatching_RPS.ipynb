{
 "cells": [
  {
   "cell_type": "code",
   "execution_count": 123,
   "id": "6a9425d4",
   "metadata": {},
   "outputs": [],
   "source": [
    "%matplotlib inline\n",
    "%reload_ext autoreload\n",
    "%autoreload 2\n",
    "\n",
    "import numpy as np\n",
    "import random"
   ]
  },
  {
   "cell_type": "code",
   "execution_count": 124,
   "id": "b7d35daa",
   "metadata": {},
   "outputs": [],
   "source": [
    "''' \n",
    "Setting of mixed extension of Nash Equilibrium\n",
    "1.  Set N = {1, 2, · · · , n} of players \n",
    "2.  For each player i, a set P_i of all mixed strategies of player i\n",
    "3.  For each player, a payoff function Hi : ∏i∈N P_i → R, where each Hi\n",
    "is a linear combination of his with coefficients equal to product of the\n",
    "corresponding probabilities\n",
    "'''\n",
    "\n",
    "ROCK, PAPER, SCISSORS, NUM_ACTIONS = 0, 1, 2, 3 \n",
    "regretSum = np.zeros(NUM_ACTIONS)\n",
    "strategy = np.zeros(NUM_ACTIONS)\n",
    "strategySum = np.zeros(NUM_ACTIONS)\n",
    "# Opponent uses the mixed strat (R, S, P) = (0.4, 0.3, 0.3)\n",
    "oppStrategy = np.array([0.4, 0.3, 0.3])\n"
   ]
  },
  {
   "cell_type": "code",
   "execution_count": 125,
   "id": "ab1b054a",
   "metadata": {},
   "outputs": [],
   "source": [
    "# All possible payoffs for p1 \n",
    "def value(p1, p2):\n",
    "    if p1 == p2:\n",
    "        return 0 \n",
    "    if p1 == ROCK and p2 == SCISSORS:\n",
    "        return 1\n",
    "    if p1 == SCISSORS and p2 == PAPER:\n",
    "        return 1\n",
    "    if p1 == PAPER and p2 == ROCK:\n",
    "        return 1\n",
    "    else:\n",
    "        return -1\n",
    "    "
   ]
  },
  {
   "cell_type": "code",
   "execution_count": 126,
   "id": "4f5ff89e",
   "metadata": {},
   "outputs": [],
   "source": [
    "# accmulate in stratSum\n",
    "def getStrategy():\n",
    "    global regretSum, strategySum\n",
    "    strategy = np.maximum(regretSum, 0)\n",
    "    normalizingSum = np.sum(strategy)\n",
    "    if normalizingSum > 0:\n",
    "        strategy /= normalizingSum\n",
    "    else:\n",
    "        strategy = np.ones(NUM_ACTIONS)/NUM_ACTIONS\n",
    "    return strategy\n",
    "\n",
    "def getAction(strategy):\n",
    "    # Returns a random number in (0,1)\n",
    "    strategy = strategy / np.sum(strategy)\n",
    "    rr = random.random()\n",
    "    return np.searchsorted(np.cumsum(strategy), rr)\n"
   ]
  },
  {
   "cell_type": "code",
   "execution_count": 127,
   "id": "0e8725d5",
   "metadata": {},
   "outputs": [
    {
     "data": {
      "text/plain": [
       "-0.75"
      ]
     },
     "execution_count": 127,
     "metadata": {},
     "output_type": "execute_result"
    },
    {
     "data": {
      "image/png": "[encoded data removed]",
      "text/plain": [
       "<Figure size 640x480 with 1 Axes>"
      ]
     },
     "metadata": {},
     "output_type": "display_data"
    }
   ],
   "source": [
    "''' Checking the sample expectation of the MNE (1/3, 1/3, 1/3) (should be very close to 0) '''\n",
    "vvv = []\n",
    "# 200 rounds of RPS, each round 100 trials\n",
    "for j in range(200):\n",
    "    vv = 0 \n",
    "    for i in range(100):\n",
    "    #Get regret-matched mixed-strategy actions\n",
    "        myStrat = getStrategy() # adopt the mixed strat (1/3, 1/3, 1/3)\n",
    "        myAction = getAction(myStrat) # get random action from pdf\n",
    "        oppAction = getAction(oppStrategy) # assume opponent uses mixed strat (0.4, 0.3, 0.3)\n",
    "        vv += value(myAction, oppAction)\n",
    "    vvv.append(vv)\n",
    "plot(sorted(vvv))\n",
    "np.mean(vvv)"
   ]
  },
  {
   "cell_type": "code",
   "execution_count": 138,
   "id": "3b3f9d74",
   "metadata": {},
   "outputs": [
    {
     "data": {
      "text/plain": [
       "(None, array([   498.,  24099., -24672.]), -75.0)"
      ]
     },
     "execution_count": 138,
     "metadata": {},
     "output_type": "execute_result"
    }
   ],
   "source": [
    "# Construct training algorithm\n",
    "def train(iterations):\n",
    "    actionPayoff = np.zeros(NUM_ACTIONS)\n",
    "    global regretSum\n",
    "    \n",
    "    for i in range(iterations):\n",
    "        # Get regret-matched mixed strategy actions\n",
    "        strategy = getStrategy()\n",
    "        myAction = getAction(myStrat)\n",
    "        oppAction = getAction (oppStrategy)\n",
    "        \n",
    "        # Compute Action Payoffs (R0 P1 S2)\n",
    "        '''Payoff of each possible action from the perspective of P1'''\n",
    "        actionPayoff[oppAction] = 0 \n",
    "        actionPayoff[(oppAction + 1) % NUM_ACTIONS] = 1\n",
    "        ''' eg if opp choose S, we choose (2+2) mod 3 = P, then our payoff is -1 '''\n",
    "        actionPayoff[(oppAction - 1) % NUM_ACTIONS] = -1\n",
    "        \n",
    "        # Accumulate Action Regrets \n",
    "        '''Compute the difference in actual and expected payoff (regret)'''\n",
    "        regretSum += actionPayoff - actionPayoff[myAction]\n",
    "            \n",
    "\n",
    "train(100000), regretSum, np.sum(regretSum)"
   ]
  },
  {
   "cell_type": "code",
   "execution_count": 141,
   "id": "6b876d15",
   "metadata": {},
   "outputs": [],
   "source": [
    "# use stratSum\n",
    "def getAverageStrategy():\n",
    "    \n",
    "    normalizingSum = np.sum(regretSum)\n",
    "    print(normalizingSum)\n",
    "    if normalizingSum > 0:\n",
    "        avgStrategy = regretSum / normalizingSum\n",
    "    else:\n",
    "        avgStrategy = np.ones(NUM_ACTIONS)/NUM_ACTIONS\n",
    "    return avgStrategy\n",
    "\n"
   ]
  },
  {
   "cell_type": "code",
   "execution_count": 142,
   "id": "f57ce198",
   "metadata": {},
   "outputs": [
    {
     "name": "stdout",
     "output_type": "stream",
     "text": [
      "-75.0\n"
     ]
    },
    {
     "data": {
      "text/plain": [
       "array([0.33333333, 0.33333333, 0.33333333])"
      ]
     },
     "execution_count": 142,
     "metadata": {},
     "output_type": "execute_result"
    }
   ],
   "source": [
    "getAverageStrategy()"
   ]
  },
  {
   "cell_type": "code",
   "execution_count": null,
   "id": "2572321d",
   "metadata": {},
   "outputs": [],
   "source": [
    "''' Checking the sample expectation of the MNE (1/3, 1/3, 1/3) (should be very close to 0) '''\n",
    "vvv = []\n",
    "# 200 rounds of RPS, each round 100 trials\n",
    "for j in range(200):\n",
    "    vv = 0 \n",
    "    for i in range(100):\n",
    "    #Get regret-matched mixed-strategy actions\n",
    "        myStrat = getStrategy() # adopt the mixed strat (1/3, 1/3, 1/3)\n",
    "        myAction = getAction(myStrat) # get random action from pdf\n",
    "        oppAction = getAction(oppStrategy) # assume opponent uses mixed strat (0.4, 0.3, 0.3)\n",
    "        vv += value(myAction, oppAction)\n",
    "    vvv.append(vv)\n",
    "plot(sorted(vvv))\n",
    "np.mean(vvv)"
   ]
  }
 ],
 "metadata": {
  "kernelspec": {
   "display_name": "Python 3 (ipykernel)",
   "language": "python",
   "name": "python3"
  },
  "language_info": {
   "codemirror_mode": {
    "name": "ipython",
    "version": 3
   },
   "file_extension": ".py",
   "mimetype": "text/x-python",
   "name": "python",
   "nbconvert_exporter": "python",
   "pygments_lexer": "ipython3",
   "version": "3.11.4"
  }
 },
 "nbformat": 4,
 "nbformat_minor": 5
}
